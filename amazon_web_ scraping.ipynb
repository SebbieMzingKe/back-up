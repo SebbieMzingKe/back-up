{
 "cells": [
  {
   "cell_type": "code",
   "execution_count": 1,
   "id": "188a2396-42c9-49c3-a064-b9d56425fd02",
   "metadata": {},
   "outputs": [],
   "source": [
    "from bs4 import BeautifulSoup \n",
    "import requests\n",
    "import time\n",
    "import datetime\n",
    "\n",
    "import smtplib # for sending emails to yourself"
   ]
  },
  {
   "cell_type": "code",
   "execution_count": 23,
   "id": "efe647cf-7048-46ab-9538-1b45f29ff2af",
   "metadata": {},
   "outputs": [
    {
     "name": "stdout",
     "output_type": "stream",
     "text": [
      "None\n",
      "None\n"
     ]
    }
   ],
   "source": [
    "# connect to website\n",
    "# url = \"https://www.amazon.com/Funny-Data-Systems-Business-Analyst/dp/B07FNW9FGJ/ref=sr_1_2?crid=3CQWGFFDI0W97&dib=eyJ2IjoiMSJ9.EkdWY-JPkdMVH0ehyai8WrEeGxUW23jZ4L14AX4t9y_JtF3W3-4wh4D1tz-hGdUlKZiuIsIKpAZ1AakDtFGonUHfBf94IBGYu0C0z-kJP3BZGVvi_aGeZQLhsXIZ4Tk6eJiIVC1yL3I3sDCdWNvcgDL4nVHC-9EmhFOkqhTDJYsgzHMB5H6j6R-euFZOg2X7HVq4nyPh24XFLAag6BYddY6OfdarYrrQtR7tTtDdj1J5qYJnHH44-0vvwSdPbQyJuNN7tgmI8_qdI6Sk9Pokad7cu3aQzxlc7McaZTo3OsY.zTr5cC9Z6reKuId7tGJmeQaAM8RhrhJUIPlkHZ7sezM&dib_tag=se&keywords=funny+got+data+mis+data+systems+business+analyst+t-shirt&qid=1724242657&sprefix=Funny-Data-Systems-Business-Analyst%2Caps%2C541&sr=8-2\"\n",
    "url = \"https://www.amazon.com/Funny-Data-Systems-Business-Analyst/dp/B07FNW9FGJ/ref=sr_1_2?crid=3CQWGFFDI0W97&dib=eyJ2IjoiMSJ9.EkdWY-JPkdMVH0ehyai8WrEeGxUW23jZ4L14AX4t9y_JtF3W3-4wh4D1tz-hGdUlKZiuIsIKpAZ1AakDtFGonUHfBf94IBGYu0C0z-kJP3BZGVvi_aGeZQLhsXIZ4Tk6eJiIVC1yL3I3sDCdWNvcgDL4nVHC-9EmhFOkqhTDJYsgzHMB5H6j6R-euFZOg2X7HVq4nyPh24XFLAag6BYddY6OfdarYrrQtR7tTtDdj1J5qYJnHH44-0vvwSdPbQyJuNN7tgmI8_qdI6Sk9Pokad7cu3aQzxlc7McaZTo3OsY.zTr5cC9Z6reKuId7tGJmeQaAM8RhrhJUIPlkHZ7sezM&dib_tag=se&keywords=funny+got+data+mis+data+systems+business+analyst+t-shirt&qid=1724242657&sprefix=Funny-Data-Systems-Business-Analyst%2Caps%2C541&sr=8-2\"\n",
    "\n",
    "headers = {\"User-Agent\": \"Mozilla/5.0 (Windows NT 10.0; Win64; x64) AppleWebKit/537.36 (KHTML, like Gecko) Chrome/127.0.0.0 Safari/537.36\"}\n",
    "\n",
    "page = requests.get(url, headers = headers)\n",
    "\n",
    "soup1 = BeautifulSoup(page.content, \"html.parser\")\n",
    "\n",
    "soup2 = BeautifulSoup(soup1.prettify(), \"html.parser\")\n",
    "\n",
    "price = soup2.find(id = \"corePriceDisplay_desktop_feature_div\")\n",
    "\n",
    "\n",
    "# title = soup2.find(\"span\", {\"id\": \"productTitle\"})\n",
    "title = soup2.find(id = \"productTitle\")\n",
    "print(title)\n",
    "print(price)"
   ]
  },
  {
   "cell_type": "code",
   "execution_count": 24,
   "id": "f6fd7f9c-a83d-4089-910a-78f6670dd202",
   "metadata": {},
   "outputs": [
    {
     "ename": "ModuleNotFoundError",
     "evalue": "No module named 'selenium'",
     "output_type": "error",
     "traceback": [
      "\u001b[1;31m---------------------------------------------------------------------------\u001b[0m",
      "\u001b[1;31mModuleNotFoundError\u001b[0m                       Traceback (most recent call last)",
      "Cell \u001b[1;32mIn[24], line 1\u001b[0m\n\u001b[1;32m----> 1\u001b[0m \u001b[38;5;28;01mfrom\u001b[39;00m \u001b[38;5;21;01mselenium\u001b[39;00m \u001b[38;5;28;01mimport\u001b[39;00m webdriver\n\u001b[0;32m      3\u001b[0m driver \u001b[38;5;241m=\u001b[39m webdriver\u001b[38;5;241m.\u001b[39mChrome()\n\u001b[0;32m      4\u001b[0m driver\u001b[38;5;241m.\u001b[39mget(url)\n",
      "\u001b[1;31mModuleNotFoundError\u001b[0m: No module named 'selenium'"
     ]
    }
   ],
   "source": [
    "from selenium import webdriver\n",
    "\n",
    "driver = webdriver.Chrome()\n",
    "driver.get(url)\n",
    "\n",
    "title = driver.find_element_by_id(\"productTitle\")\n",
    "print(title.text)\n",
    "\n",
    "driver.quit()"
   ]
  },
  {
   "cell_type": "code",
   "execution_count": null,
   "id": "7b9cbc1d-c8be-4f4a-8196-09858466dce5",
   "metadata": {},
   "outputs": [],
   "source": []
  }
 ],
 "metadata": {
  "kernelspec": {
   "display_name": "Python 3 (ipykernel)",
   "language": "python",
   "name": "python3"
  },
  "language_info": {
   "codemirror_mode": {
    "name": "ipython",
    "version": 3
   },
   "file_extension": ".py",
   "mimetype": "text/x-python",
   "name": "python",
   "nbconvert_exporter": "python",
   "pygments_lexer": "ipython3",
   "version": "3.12.4"
  }
 },
 "nbformat": 4,
 "nbformat_minor": 5
}
